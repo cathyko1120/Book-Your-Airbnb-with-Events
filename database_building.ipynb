{
 "cells": [
  {
   "cell_type": "code",
   "execution_count": 1,
   "id": "f93b8878",
   "metadata": {},
   "outputs": [],
   "source": [
    "import pandas as pd\n",
    "import numpy as np\n",
    "import json\n",
    "import csv\n",
    "import datetime"
   ]
  },
  {
   "cell_type": "markdown",
   "id": "5541798f",
   "metadata": {},
   "source": [
    "# PostgreSQL Database Build"
   ]
  },
  {
   "cell_type": "code",
   "execution_count": 2,
   "id": "eeead351",
   "metadata": {},
   "outputs": [],
   "source": [
    "#Load in Data\n",
    "LA_raw = pd.read_csv('/Users/cathy/Documents/Columbia Sem 2/5400_Managing Data/Final Project/Code&Data/LA_Listings.csv',delimiter=',',encoding='ISO-8859-1',\n",
    "                         dtype={'Street': str, 'latitude': str, 'Amenities': str, 'Calendar last scraped': str})\n",
    "LA_raw['region'] = 'LA'\n",
    "NY_raw = pd.read_csv('/Users/cathy/Documents/Columbia Sem 2/5400_Managing Data/Final Project/Code&Data/NY_Listings.csv',delimiter=',',encoding='ISO-8859-1',\n",
    "                         dtype={'Street': str, 'Amenities': str, 'Calendar last scraped': str})\n",
    "NY_raw['region'] = 'NY'"
   ]
  },
  {
   "cell_type": "code",
   "execution_count": 3,
   "id": "da90b8a6",
   "metadata": {},
   "outputs": [],
   "source": [
    "full_raw = pd.concat([LA_raw,NY_raw])"
   ]
  },
  {
   "cell_type": "code",
   "execution_count": 4,
   "id": "d67d553d",
   "metadata": {},
   "outputs": [],
   "source": [
    "full_listings = full_raw.loc[:, ['Listing ID','Name','Host ID','Host Name','Host Response Rate','Host Is Superhost',\n",
    "                                'Host total listings count','latitude','longitude','Property type','Room type','Accommodates',\n",
    "                                'Bathrooms','Bedrooms','Amenities','Price','Minimum nights','Maximum nights',\n",
    "                                 'Review Scores Rating']].rename(\n",
    "            columns = {\n",
    "                'Listing ID':'id',\n",
    "                'Name':'name',\n",
    "                'Host ID':'host_id',\n",
    "                'Host Name':'host_name',\n",
    "                'Host Response Rate':'host_response',\n",
    "                'Host Is Superhost':'superhost',\n",
    "                'Host total listings count':'host_listsnum',\n",
    "                'Property type':'property_type',\n",
    "                'Room type':'room_type',\n",
    "                'Accommodates':'accommodates',\n",
    "                'Bathrooms':'bathrooms',\n",
    "                'Bedrooms':'bedrooms',\n",
    "                'Amenities':'amenities',\n",
    "                'Price':'price',\n",
    "                'Minimum nights':'min_nights',\n",
    "                'Maximum nights':'max_nights',\n",
    "                \"Review Scores Rating\" : 'rating'\n",
    "            })"
   ]
  },
  {
   "cell_type": "code",
   "execution_count": 5,
   "id": "07fe46f1",
   "metadata": {},
   "outputs": [
    {
     "data": {
      "text/plain": [
       "Listing ID                       int64\n",
       "Name                            object\n",
       "Host ID                          int64\n",
       "Host Name                       object\n",
       "Host Response Rate             float64\n",
       "Host Is Superhost                 bool\n",
       "Host total listings count      float64\n",
       "Street                          object\n",
       "City                            object\n",
       "Neighbourhood cleansed          object\n",
       "State                           object\n",
       "Country                         object\n",
       "latitude                        object\n",
       "longitude                      float64\n",
       "Property type                   object\n",
       "Room type                       object\n",
       "Accommodates                   float64\n",
       "Bathrooms                      float64\n",
       "Bedrooms                       float64\n",
       "Amenities                       object\n",
       "Price                            int64\n",
       "Minimum nights                   int64\n",
       "Maximum nights                 float64\n",
       "Availability 365                 int64\n",
       "Calendar last scraped           object\n",
       "Number of reviews                int64\n",
       "Last Review Date                object\n",
       "Review Scores Rating             int64\n",
       "Review Scores Accuracy           int64\n",
       "Review Scores Cleanliness        int64\n",
       "Review Scores Checkin            int64\n",
       "Review Scores Communication      int64\n",
       "Review Scores Location           int64\n",
       "Review Scores Value              int64\n",
       "Reviews per month              float64\n",
       "region                          object\n",
       "dtype: object"
      ]
     },
     "execution_count": 5,
     "metadata": {},
     "output_type": "execute_result"
    }
   ],
   "source": [
    "full_raw['Price']    #check a specific column data type\n",
    "full_raw.dtypes      #check the data type of all columns, object means string"
   ]
  },
  {
   "cell_type": "markdown",
   "id": "ddf2a063",
   "metadata": {},
   "source": [
    "#### Adjust null values"
   ]
  },
  {
   "cell_type": "code",
   "execution_count": 6,
   "id": "793cee8d",
   "metadata": {},
   "outputs": [],
   "source": [
    "full_listings = full_listings.where((pd.notnull(full_listings)), None)\n",
    "full_listings = full_listings.replace({np.nan: None})"
   ]
  },
  {
   "cell_type": "code",
   "execution_count": 7,
   "id": "093f438b",
   "metadata": {},
   "outputs": [
    {
     "data": {
      "text/html": [
       "<div>\n",
       "<style scoped>\n",
       "    .dataframe tbody tr th:only-of-type {\n",
       "        vertical-align: middle;\n",
       "    }\n",
       "\n",
       "    .dataframe tbody tr th {\n",
       "        vertical-align: top;\n",
       "    }\n",
       "\n",
       "    .dataframe thead th {\n",
       "        text-align: right;\n",
       "    }\n",
       "</style>\n",
       "<table border=\"1\" class=\"dataframe\">\n",
       "  <thead>\n",
       "    <tr style=\"text-align: right;\">\n",
       "      <th></th>\n",
       "      <th>id</th>\n",
       "      <th>name</th>\n",
       "      <th>host_id</th>\n",
       "      <th>host_name</th>\n",
       "      <th>host_response</th>\n",
       "      <th>superhost</th>\n",
       "      <th>host_listsnum</th>\n",
       "      <th>latitude</th>\n",
       "      <th>longitude</th>\n",
       "      <th>property_type</th>\n",
       "      <th>room_type</th>\n",
       "      <th>accommodates</th>\n",
       "      <th>bathrooms</th>\n",
       "      <th>bedrooms</th>\n",
       "      <th>amenities</th>\n",
       "      <th>price</th>\n",
       "      <th>min_nights</th>\n",
       "      <th>max_nights</th>\n",
       "      <th>rating</th>\n",
       "    </tr>\n",
       "  </thead>\n",
       "  <tbody>\n",
       "    <tr>\n",
       "      <th>0</th>\n",
       "      <td>11085215</td>\n",
       "      <td>_________</td>\n",
       "      <td>57460111</td>\n",
       "      <td>Robin</td>\n",
       "      <td>None</td>\n",
       "      <td>False</td>\n",
       "      <td>3.0</td>\n",
       "      <td>34.05689088</td>\n",
       "      <td>-117.978845</td>\n",
       "      <td>House</td>\n",
       "      <td>Private room</td>\n",
       "      <td>3.0</td>\n",
       "      <td>2.0</td>\n",
       "      <td>1.0</td>\n",
       "      <td>TV;Internet;Wireless Internet;Air conditioning...</td>\n",
       "      <td>80</td>\n",
       "      <td>1</td>\n",
       "      <td>1125.0</td>\n",
       "      <td>0</td>\n",
       "    </tr>\n",
       "    <tr>\n",
       "      <th>1</th>\n",
       "      <td>3230382</td>\n",
       "      <td>Large master bedroom &amp; covered patio; __________</td>\n",
       "      <td>15878447</td>\n",
       "      <td>Betty</td>\n",
       "      <td>1.0</td>\n",
       "      <td>True</td>\n",
       "      <td>9.0</td>\n",
       "      <td>34.06032707</td>\n",
       "      <td>-118.121037</td>\n",
       "      <td>House</td>\n",
       "      <td>Private room</td>\n",
       "      <td>3.0</td>\n",
       "      <td>1.0</td>\n",
       "      <td>1.0</td>\n",
       "      <td>Internet;Wireless Internet;Air conditioning;He...</td>\n",
       "      <td>75</td>\n",
       "      <td>3</td>\n",
       "      <td>1125.0</td>\n",
       "      <td>95</td>\n",
       "    </tr>\n",
       "    <tr>\n",
       "      <th>2</th>\n",
       "      <td>18211034</td>\n",
       "      <td>Comfortable queen bed near LAX</td>\n",
       "      <td>125720858</td>\n",
       "      <td>Sally</td>\n",
       "      <td>1.0</td>\n",
       "      <td>False</td>\n",
       "      <td>1.0</td>\n",
       "      <td>33.92183162</td>\n",
       "      <td>-118.354565</td>\n",
       "      <td>Apartment</td>\n",
       "      <td>Shared room</td>\n",
       "      <td>1.0</td>\n",
       "      <td>1.0</td>\n",
       "      <td>1.0</td>\n",
       "      <td>Internet;Wireless Internet;Pool;Kitchen;Heatin...</td>\n",
       "      <td>45</td>\n",
       "      <td>1</td>\n",
       "      <td>1125.0</td>\n",
       "      <td>0</td>\n",
       "    </tr>\n",
       "    <tr>\n",
       "      <th>3</th>\n",
       "      <td>12209039</td>\n",
       "      <td>Single room for rent</td>\n",
       "      <td>38037399</td>\n",
       "      <td>_</td>\n",
       "      <td>1.0</td>\n",
       "      <td>False</td>\n",
       "      <td>2.0</td>\n",
       "      <td>34.0275231</td>\n",
       "      <td>-117.809445</td>\n",
       "      <td>House</td>\n",
       "      <td>Private room</td>\n",
       "      <td>1.0</td>\n",
       "      <td>1.0</td>\n",
       "      <td>1.0</td>\n",
       "      <td>Family/kid friendly</td>\n",
       "      <td>35</td>\n",
       "      <td>3</td>\n",
       "      <td>1125.0</td>\n",
       "      <td>0</td>\n",
       "    </tr>\n",
       "    <tr>\n",
       "      <th>4</th>\n",
       "      <td>10339306</td>\n",
       "      <td>Temple city __________;__;__</td>\n",
       "      <td>52290241</td>\n",
       "      <td>Cynthia</td>\n",
       "      <td>0.0</td>\n",
       "      <td>False</td>\n",
       "      <td>1.0</td>\n",
       "      <td>34.09453005</td>\n",
       "      <td>-118.072263</td>\n",
       "      <td>House</td>\n",
       "      <td>Private room</td>\n",
       "      <td>4.0</td>\n",
       "      <td>1.0</td>\n",
       "      <td>1.0</td>\n",
       "      <td>None</td>\n",
       "      <td>53</td>\n",
       "      <td>1</td>\n",
       "      <td>1125.0</td>\n",
       "      <td>100</td>\n",
       "    </tr>\n",
       "    <tr>\n",
       "      <th>...</th>\n",
       "      <td>...</td>\n",
       "      <td>...</td>\n",
       "      <td>...</td>\n",
       "      <td>...</td>\n",
       "      <td>...</td>\n",
       "      <td>...</td>\n",
       "      <td>...</td>\n",
       "      <td>...</td>\n",
       "      <td>...</td>\n",
       "      <td>...</td>\n",
       "      <td>...</td>\n",
       "      <td>...</td>\n",
       "      <td>...</td>\n",
       "      <td>...</td>\n",
       "      <td>...</td>\n",
       "      <td>...</td>\n",
       "      <td>...</td>\n",
       "      <td>...</td>\n",
       "      <td>...</td>\n",
       "    </tr>\n",
       "    <tr>\n",
       "      <th>75744</th>\n",
       "      <td>42806780</td>\n",
       "      <td>Male share room long term</td>\n",
       "      <td>305126403</td>\n",
       "      <td>Bruce</td>\n",
       "      <td>None</td>\n",
       "      <td>False</td>\n",
       "      <td>3.0</td>\n",
       "      <td>40.64148</td>\n",
       "      <td>-73.96073</td>\n",
       "      <td>Train</td>\n",
       "      <td>Shared room</td>\n",
       "      <td>None</td>\n",
       "      <td>None</td>\n",
       "      <td>None</td>\n",
       "      <td>None</td>\n",
       "      <td>22</td>\n",
       "      <td>30</td>\n",
       "      <td>None</td>\n",
       "      <td>0</td>\n",
       "    </tr>\n",
       "    <tr>\n",
       "      <th>75745</th>\n",
       "      <td>42815083</td>\n",
       "      <td>Jfk flight attendant crashpad</td>\n",
       "      <td>63729602</td>\n",
       "      <td>Adriel</td>\n",
       "      <td>None</td>\n",
       "      <td>False</td>\n",
       "      <td>1.0</td>\n",
       "      <td>40.68143</td>\n",
       "      <td>-73.75461</td>\n",
       "      <td>Cabin</td>\n",
       "      <td>Shared room</td>\n",
       "      <td>None</td>\n",
       "      <td>None</td>\n",
       "      <td>None</td>\n",
       "      <td>None</td>\n",
       "      <td>50</td>\n",
       "      <td>1</td>\n",
       "      <td>None</td>\n",
       "      <td>0</td>\n",
       "    </tr>\n",
       "    <tr>\n",
       "      <th>75746</th>\n",
       "      <td>42831981</td>\n",
       "      <td>Double-Bed in Sunset Park/Industry City</td>\n",
       "      <td>264569855</td>\n",
       "      <td>Leidi</td>\n",
       "      <td>None</td>\n",
       "      <td>False</td>\n",
       "      <td>3.0</td>\n",
       "      <td>40.64721</td>\n",
       "      <td>-74.01418</td>\n",
       "      <td>Bungalow</td>\n",
       "      <td>Shared room</td>\n",
       "      <td>None</td>\n",
       "      <td>None</td>\n",
       "      <td>None</td>\n",
       "      <td>None</td>\n",
       "      <td>45</td>\n",
       "      <td>1</td>\n",
       "      <td>None</td>\n",
       "      <td>0</td>\n",
       "    </tr>\n",
       "    <tr>\n",
       "      <th>75747</th>\n",
       "      <td>42862086</td>\n",
       "      <td>(B6) BedStuy/Bushwick Shared Basement</td>\n",
       "      <td>538108</td>\n",
       "      <td>Kevin</td>\n",
       "      <td>None</td>\n",
       "      <td>False</td>\n",
       "      <td>6.0</td>\n",
       "      <td>40.69197</td>\n",
       "      <td>-73.93003</td>\n",
       "      <td>House</td>\n",
       "      <td>Shared room</td>\n",
       "      <td>None</td>\n",
       "      <td>None</td>\n",
       "      <td>None</td>\n",
       "      <td>None</td>\n",
       "      <td>20</td>\n",
       "      <td>3</td>\n",
       "      <td>None</td>\n",
       "      <td>0</td>\n",
       "    </tr>\n",
       "    <tr>\n",
       "      <th>75748</th>\n",
       "      <td>42881423</td>\n",
       "      <td>TIME SQUARE 43rd Street-&gt;Single Bed on 1st floor</td>\n",
       "      <td>30985759</td>\n",
       "      <td>Taz</td>\n",
       "      <td>None</td>\n",
       "      <td>False</td>\n",
       "      <td>7.0</td>\n",
       "      <td>40.759805</td>\n",
       "      <td>-73.991899</td>\n",
       "      <td>Other</td>\n",
       "      <td>Shared room</td>\n",
       "      <td>None</td>\n",
       "      <td>None</td>\n",
       "      <td>None</td>\n",
       "      <td>None</td>\n",
       "      <td>58</td>\n",
       "      <td>1</td>\n",
       "      <td>None</td>\n",
       "      <td>0</td>\n",
       "    </tr>\n",
       "  </tbody>\n",
       "</table>\n",
       "<p>135614 rows × 19 columns</p>\n",
       "</div>"
      ],
      "text/plain": [
       "             id                                              name    host_id  \\\n",
       "0      11085215                                         _________   57460111   \n",
       "1       3230382  Large master bedroom & covered patio; __________   15878447   \n",
       "2      18211034                    Comfortable queen bed near LAX  125720858   \n",
       "3      12209039                              Single room for rent   38037399   \n",
       "4      10339306                      Temple city __________;__;__   52290241   \n",
       "...         ...                                               ...        ...   \n",
       "75744  42806780                         Male share room long term  305126403   \n",
       "75745  42815083                     Jfk flight attendant crashpad   63729602   \n",
       "75746  42831981           Double-Bed in Sunset Park/Industry City  264569855   \n",
       "75747  42862086             (B6) BedStuy/Bushwick Shared Basement     538108   \n",
       "75748  42881423  TIME SQUARE 43rd Street->Single Bed on 1st floor   30985759   \n",
       "\n",
       "      host_name host_response  superhost host_listsnum     latitude  \\\n",
       "0         Robin          None      False           3.0  34.05689088   \n",
       "1         Betty           1.0       True           9.0  34.06032707   \n",
       "2         Sally           1.0      False           1.0  33.92183162   \n",
       "3             _           1.0      False           2.0   34.0275231   \n",
       "4       Cynthia           0.0      False           1.0  34.09453005   \n",
       "...         ...           ...        ...           ...          ...   \n",
       "75744     Bruce          None      False           3.0     40.64148   \n",
       "75745    Adriel          None      False           1.0     40.68143   \n",
       "75746     Leidi          None      False           3.0     40.64721   \n",
       "75747     Kevin          None      False           6.0     40.69197   \n",
       "75748       Taz          None      False           7.0    40.759805   \n",
       "\n",
       "        longitude property_type     room_type accommodates bathrooms bedrooms  \\\n",
       "0     -117.978845         House  Private room          3.0       2.0      1.0   \n",
       "1     -118.121037         House  Private room          3.0       1.0      1.0   \n",
       "2     -118.354565     Apartment   Shared room          1.0       1.0      1.0   \n",
       "3     -117.809445         House  Private room          1.0       1.0      1.0   \n",
       "4     -118.072263         House  Private room          4.0       1.0      1.0   \n",
       "...           ...           ...           ...          ...       ...      ...   \n",
       "75744   -73.96073         Train   Shared room         None      None     None   \n",
       "75745   -73.75461         Cabin   Shared room         None      None     None   \n",
       "75746   -74.01418      Bungalow   Shared room         None      None     None   \n",
       "75747   -73.93003         House   Shared room         None      None     None   \n",
       "75748  -73.991899         Other   Shared room         None      None     None   \n",
       "\n",
       "                                               amenities  price  min_nights  \\\n",
       "0      TV;Internet;Wireless Internet;Air conditioning...     80           1   \n",
       "1      Internet;Wireless Internet;Air conditioning;He...     75           3   \n",
       "2      Internet;Wireless Internet;Pool;Kitchen;Heatin...     45           1   \n",
       "3                                    Family/kid friendly     35           3   \n",
       "4                                                   None     53           1   \n",
       "...                                                  ...    ...         ...   \n",
       "75744                                               None     22          30   \n",
       "75745                                               None     50           1   \n",
       "75746                                               None     45           1   \n",
       "75747                                               None     20           3   \n",
       "75748                                               None     58           1   \n",
       "\n",
       "      max_nights  rating  \n",
       "0         1125.0       0  \n",
       "1         1125.0      95  \n",
       "2         1125.0       0  \n",
       "3         1125.0       0  \n",
       "4         1125.0     100  \n",
       "...          ...     ...  \n",
       "75744       None       0  \n",
       "75745       None       0  \n",
       "75746       None       0  \n",
       "75747       None       0  \n",
       "75748       None       0  \n",
       "\n",
       "[135614 rows x 19 columns]"
      ]
     },
     "execution_count": 7,
     "metadata": {},
     "output_type": "execute_result"
    }
   ],
   "source": [
    "full_listings"
   ]
  },
  {
   "cell_type": "markdown",
   "id": "30930bdd",
   "metadata": {},
   "source": [
    "### Create Connections to PostgreSQL"
   ]
  },
  {
   "cell_type": "code",
   "execution_count": 8,
   "id": "381de5b0",
   "metadata": {
    "scrolled": true
   },
   "outputs": [
    {
     "name": "stdout",
     "output_type": "stream",
     "text": [
      "Requirement already satisfied: psycopg[binary] in /Users/cathy/opt/anaconda3/lib/python3.9/site-packages (3.1.9)\n",
      "Requirement already satisfied: typing-extensions>=4.1 in /Users/cathy/opt/anaconda3/lib/python3.9/site-packages (from psycopg[binary]) (4.3.0)\n",
      "Requirement already satisfied: psycopg-binary==3.1.9 in /Users/cathy/opt/anaconda3/lib/python3.9/site-packages (from psycopg[binary]) (3.1.9)\n"
     ]
    }
   ],
   "source": [
    "!pip install -U \"psycopg[binary]\""
   ]
  },
  {
   "cell_type": "code",
   "execution_count": 9,
   "id": "1ec1d681",
   "metadata": {},
   "outputs": [
    {
     "name": "stdout",
     "output_type": "stream",
     "text": [
      "Connecting to the PostgreSQL database...\n"
     ]
    }
   ],
   "source": [
    "import psycopg, os\n",
    "\n",
    "print('Connecting to the PostgreSQL database...')\n",
    "conn = psycopg.connect(\n",
    "    host=\"localhost\",\n",
    "    port='5432',\n",
    "    dbname=\"5400_airbnb\",\n",
    "    user=\"postgres\",\n",
    "    password=\"123\")\n",
    "\n",
    "# create a cursor\n",
    "cur = conn.cursor() #  conn object represents the connection to the database.\n",
    "#A cursor is a control structure that allows you to navigate and manipulate the result set of a database query.\n",
    "#It provides methods and attributes to execute SQL statements and retrieve data from the database."
   ]
  },
  {
   "cell_type": "code",
   "execution_count": 10,
   "id": "b704eb59",
   "metadata": {},
   "outputs": [
    {
     "data": {
      "text/plain": [
       "<psycopg.Cursor [COMMAND_OK] [INTRANS] (host=localhost user=postgres database=5400_airbnb) at 0x7fe7f9ac1250>"
      ]
     },
     "execution_count": 10,
     "metadata": {},
     "output_type": "execute_result"
    }
   ],
   "source": [
    "cur.execute(\"DROP TABLE hosts CASCADE\")\n",
    "cur.execute(\"DROP TABLE listings CASCADE\")"
   ]
  },
  {
   "cell_type": "code",
   "execution_count": 11,
   "id": "b8c36bd1",
   "metadata": {},
   "outputs": [],
   "source": [
    "create_tables = \"\"\"\n",
    "    CREATE TABLE hosts (\n",
    "      host_id CHAR(50),\n",
    "      host_name VARCHAR,\n",
    "      host_response VARCHAR,\n",
    "      superhost VARCHAR,\n",
    "      host_listsnum VARCHAR,\n",
    "      PRIMARY KEY (host_id)\n",
    "    );\n",
    "\n",
    "    CREATE TABLE listings (\n",
    "      id INTEGER,\n",
    "      name VARCHAR,\n",
    "      host_id CHAR(50) REFERENCES hosts(host_id),\n",
    "      latitude VARCHAR,\n",
    "      longitude VARCHAR,\n",
    "      property_type VARCHAR,\n",
    "      room_type VARCHAR,\n",
    "      accommodates INTEGER,\n",
    "      bedrooms NUMERIC,\n",
    "      bathrooms NUMERIC,\n",
    "      price NUMERIC,\n",
    "      min_nights INTEGER,\n",
    "      max_nights INTEGER,\n",
    "      rating NUMERIC,\n",
    "      PRIMARY KEY (id)\n",
    "    );\n",
    "\"\"\"\n",
    "\n",
    "cur.execute(create_tables)\n",
    "conn.commit()"
   ]
  },
  {
   "cell_type": "markdown",
   "id": "b48513cb",
   "metadata": {},
   "source": [
    "Insert Hosts Info"
   ]
  },
  {
   "cell_type": "code",
   "execution_count": 12,
   "id": "c74c2424",
   "metadata": {},
   "outputs": [],
   "source": [
    "hosts_df = full_listings[['host_id', 'host_name','host_response','superhost','host_listsnum']]\n",
    "hosts_df = hosts_df.drop_duplicates(subset='host_id')"
   ]
  },
  {
   "cell_type": "code",
   "execution_count": 13,
   "id": "e7db6be1",
   "metadata": {},
   "outputs": [
    {
     "name": "stdout",
     "output_type": "stream",
     "text": [
      "Values inserted into the hosts table successfully!\n"
     ]
    }
   ],
   "source": [
    "for i, row in hosts_df.iterrows():\n",
    "    insert_query = '''\n",
    "    INSERT INTO hosts\n",
    "    VALUES (%s, %s, %s, %s, %s);\n",
    "    '''\n",
    "    cur.execute(insert_query, (row['host_id'], row['host_name'],row['host_response'], row['superhost'],row['host_listsnum']))\n",
    "conn.commit()\n",
    "print(\"Values inserted into the hosts table successfully!\")"
   ]
  },
  {
   "cell_type": "markdown",
   "id": "cdb51f43",
   "metadata": {},
   "source": [
    "Insert Listings Info"
   ]
  },
  {
   "cell_type": "code",
   "execution_count": 14,
   "id": "395f9d9d",
   "metadata": {},
   "outputs": [],
   "source": [
    "listings_df = full_listings[['id', 'name','host_id','latitude','longitude','property_type','room_type',\n",
    "                            'accommodates', 'bedrooms','bathrooms','price','min_nights','max_nights','rating']]"
   ]
  },
  {
   "cell_type": "code",
   "execution_count": 15,
   "id": "7f47dc03",
   "metadata": {},
   "outputs": [
    {
     "name": "stdout",
     "output_type": "stream",
     "text": [
      "Values inserted into the listings table successfully!\n"
     ]
    }
   ],
   "source": [
    "for i, row in listings_df.iterrows():\n",
    "    insert_query = '''\n",
    "    INSERT INTO listings\n",
    "    VALUES (%s, %s, %s, %s, %s, %s, %s, %s, %s, %s, %s, %s, %s, %s);\n",
    "    '''\n",
    "    cur.execute(insert_query, (row['id'], row['name'],row['host_id'], row['latitude'],row['longitude'],\n",
    "                              row['property_type'], row['room_type'],row['accommodates'], row['bedrooms'],\n",
    "                               row['bathrooms'],row['price'], row['min_nights'],row['max_nights'],row['rating']))\n",
    "conn.commit()\n",
    "print(\"Values inserted into the listings table successfully!\")"
   ]
  },
  {
   "cell_type": "code",
   "execution_count": 16,
   "id": "20a148ff",
   "metadata": {},
   "outputs": [],
   "source": [
    "# close the communication with the PostgreSQL\n",
    "cur.close()"
   ]
  },
  {
   "cell_type": "markdown",
   "id": "9c440f2e",
   "metadata": {},
   "source": [
    "# MongoDB Database Build"
   ]
  },
  {
   "cell_type": "markdown",
   "id": "fe02c5a2",
   "metadata": {},
   "source": [
    "### Reviews of Listings Data"
   ]
  },
  {
   "cell_type": "code",
   "execution_count": 17,
   "id": "ddf084bf",
   "metadata": {},
   "outputs": [],
   "source": [
    "# Read CSV file using pandas\n",
    "reviews = pd.read_csv('/Users/cathy/Documents/Columbia Sem 2/5400_Managing Data/Final Project/Code&Data/airbnb-reviews.csv', sep=';')\n",
    "\n",
    "reviews.drop_duplicates(subset='id', inplace=True)"
   ]
  },
  {
   "cell_type": "code",
   "execution_count": 18,
   "id": "f24a239f",
   "metadata": {},
   "outputs": [
    {
     "data": {
      "text/plain": [
       "listing_id        int64\n",
       "id                int64\n",
       "date             object\n",
       "reviewer_id       int64\n",
       "reviewer_name    object\n",
       "comments         object\n",
       "dtype: object"
      ]
     },
     "execution_count": 18,
     "metadata": {},
     "output_type": "execute_result"
    }
   ],
   "source": [
    "reviews.dtypes "
   ]
  },
  {
   "cell_type": "code",
   "execution_count": 19,
   "id": "49d009fb",
   "metadata": {},
   "outputs": [],
   "source": [
    "#Modify data to add location variables (long+lat) to reviews\n",
    "loc_listings = full_listings.loc[:,['id','latitude','longitude']].rename(columns={\"id\":\"listing_id\"})\n",
    "\n",
    "reviews_complete = pd.merge(reviews, loc_listings, on=\"listing_id\")"
   ]
  },
  {
   "cell_type": "code",
   "execution_count": 20,
   "id": "3149b384",
   "metadata": {
    "scrolled": true
   },
   "outputs": [
    {
     "data": {
      "text/html": [
       "<div>\n",
       "<style scoped>\n",
       "    .dataframe tbody tr th:only-of-type {\n",
       "        vertical-align: middle;\n",
       "    }\n",
       "\n",
       "    .dataframe tbody tr th {\n",
       "        vertical-align: top;\n",
       "    }\n",
       "\n",
       "    .dataframe thead th {\n",
       "        text-align: right;\n",
       "    }\n",
       "</style>\n",
       "<table border=\"1\" class=\"dataframe\">\n",
       "  <thead>\n",
       "    <tr style=\"text-align: right;\">\n",
       "      <th></th>\n",
       "      <th>listing_id</th>\n",
       "      <th>id</th>\n",
       "      <th>date</th>\n",
       "      <th>reviewer_id</th>\n",
       "      <th>reviewer_name</th>\n",
       "      <th>comments</th>\n",
       "      <th>latitude</th>\n",
       "      <th>longitude</th>\n",
       "    </tr>\n",
       "  </thead>\n",
       "  <tbody>\n",
       "    <tr>\n",
       "      <th>0</th>\n",
       "      <td>6367973</td>\n",
       "      <td>139255172</td>\n",
       "      <td>2017-03-24</td>\n",
       "      <td>31402335</td>\n",
       "      <td>Madeleine, Keylan, Skylar, Danner,</td>\n",
       "      <td>Charisse's place is the best because she makes...</td>\n",
       "      <td>40.663517</td>\n",
       "      <td>-73.960052</td>\n",
       "    </tr>\n",
       "    <tr>\n",
       "      <th>1</th>\n",
       "      <td>6367973</td>\n",
       "      <td>139758644</td>\n",
       "      <td>2017-03-26</td>\n",
       "      <td>95671547</td>\n",
       "      <td>Confesor</td>\n",
       "      <td>Su casa es my casa. Thanks</td>\n",
       "      <td>40.663517</td>\n",
       "      <td>-73.960052</td>\n",
       "    </tr>\n",
       "    <tr>\n",
       "      <th>2</th>\n",
       "      <td>6367973</td>\n",
       "      <td>142274405</td>\n",
       "      <td>2017-04-07</td>\n",
       "      <td>31402335</td>\n",
       "      <td>Madeleine, Keylan, Skylar, Danner,</td>\n",
       "      <td>Here is the problem, when you say good thinks ...</td>\n",
       "      <td>40.663517</td>\n",
       "      <td>-73.960052</td>\n",
       "    </tr>\n",
       "    <tr>\n",
       "      <th>3</th>\n",
       "      <td>6367973</td>\n",
       "      <td>47409156</td>\n",
       "      <td>2015-09-18</td>\n",
       "      <td>37991741</td>\n",
       "      <td>Maritza</td>\n",
       "      <td>Charisse was very welcoming and made us feel r...</td>\n",
       "      <td>40.663517</td>\n",
       "      <td>-73.960052</td>\n",
       "    </tr>\n",
       "    <tr>\n",
       "      <th>4</th>\n",
       "      <td>6367973</td>\n",
       "      <td>58303193</td>\n",
       "      <td>2016-01-02</td>\n",
       "      <td>18572807</td>\n",
       "      <td>Elena</td>\n",
       "      <td>Charisse is nice and hospitable person from th...</td>\n",
       "      <td>40.663517</td>\n",
       "      <td>-73.960052</td>\n",
       "    </tr>\n",
       "    <tr>\n",
       "      <th>...</th>\n",
       "      <td>...</td>\n",
       "      <td>...</td>\n",
       "      <td>...</td>\n",
       "      <td>...</td>\n",
       "      <td>...</td>\n",
       "      <td>...</td>\n",
       "      <td>...</td>\n",
       "      <td>...</td>\n",
       "    </tr>\n",
       "    <tr>\n",
       "      <th>1214653</th>\n",
       "      <td>12410912</td>\n",
       "      <td>70074393</td>\n",
       "      <td>2016-04-16</td>\n",
       "      <td>1588333</td>\n",
       "      <td>Cris</td>\n",
       "      <td>The host canceled this reservation 2 days befo...</td>\n",
       "      <td>40.727359</td>\n",
       "      <td>-74.001918</td>\n",
       "    </tr>\n",
       "    <tr>\n",
       "      <th>1214654</th>\n",
       "      <td>7004813</td>\n",
       "      <td>45395202</td>\n",
       "      <td>2015-09-02</td>\n",
       "      <td>39765053</td>\n",
       "      <td>Loretta</td>\n",
       "      <td>Bright and sunny open floor plan on main floor...</td>\n",
       "      <td>36.97273496</td>\n",
       "      <td>-121.914538</td>\n",
       "    </tr>\n",
       "    <tr>\n",
       "      <th>1214655</th>\n",
       "      <td>7004813</td>\n",
       "      <td>44017414</td>\n",
       "      <td>2015-08-23</td>\n",
       "      <td>15790628</td>\n",
       "      <td>Jennifer</td>\n",
       "      <td>Our stay at the beach house was amazing. We ha...</td>\n",
       "      <td>36.97273496</td>\n",
       "      <td>-121.914538</td>\n",
       "    </tr>\n",
       "    <tr>\n",
       "      <th>1214656</th>\n",
       "      <td>5328145</td>\n",
       "      <td>26579871</td>\n",
       "      <td>2015-02-15</td>\n",
       "      <td>26769874</td>\n",
       "      <td>Ama</td>\n",
       "      <td>Myra and David were very welcoming, friendly a...</td>\n",
       "      <td>36.97157753</td>\n",
       "      <td>-121.901532</td>\n",
       "    </tr>\n",
       "    <tr>\n",
       "      <th>1214657</th>\n",
       "      <td>8486050</td>\n",
       "      <td>50800979</td>\n",
       "      <td>2015-10-14</td>\n",
       "      <td>16326530</td>\n",
       "      <td>Gary</td>\n",
       "      <td>Wow what an amazing place! Kristin's seascape ...</td>\n",
       "      <td>36.9478674</td>\n",
       "      <td>-121.874697</td>\n",
       "    </tr>\n",
       "  </tbody>\n",
       "</table>\n",
       "<p>1214658 rows × 8 columns</p>\n",
       "</div>"
      ],
      "text/plain": [
       "         listing_id         id        date  reviewer_id  \\\n",
       "0           6367973  139255172  2017-03-24     31402335   \n",
       "1           6367973  139758644  2017-03-26     95671547   \n",
       "2           6367973  142274405  2017-04-07     31402335   \n",
       "3           6367973   47409156  2015-09-18     37991741   \n",
       "4           6367973   58303193  2016-01-02     18572807   \n",
       "...             ...        ...         ...          ...   \n",
       "1214653    12410912   70074393  2016-04-16      1588333   \n",
       "1214654     7004813   45395202  2015-09-02     39765053   \n",
       "1214655     7004813   44017414  2015-08-23     15790628   \n",
       "1214656     5328145   26579871  2015-02-15     26769874   \n",
       "1214657     8486050   50800979  2015-10-14     16326530   \n",
       "\n",
       "                              reviewer_name  \\\n",
       "0        Madeleine, Keylan, Skylar, Danner,   \n",
       "1                                  Confesor   \n",
       "2        Madeleine, Keylan, Skylar, Danner,   \n",
       "3                                   Maritza   \n",
       "4                                     Elena   \n",
       "...                                     ...   \n",
       "1214653                                Cris   \n",
       "1214654                             Loretta   \n",
       "1214655                            Jennifer   \n",
       "1214656                                 Ama   \n",
       "1214657                                Gary   \n",
       "\n",
       "                                                  comments     latitude  \\\n",
       "0        Charisse's place is the best because she makes...    40.663517   \n",
       "1                               Su casa es my casa. Thanks    40.663517   \n",
       "2        Here is the problem, when you say good thinks ...    40.663517   \n",
       "3        Charisse was very welcoming and made us feel r...    40.663517   \n",
       "4        Charisse is nice and hospitable person from th...    40.663517   \n",
       "...                                                    ...          ...   \n",
       "1214653  The host canceled this reservation 2 days befo...    40.727359   \n",
       "1214654  Bright and sunny open floor plan on main floor...  36.97273496   \n",
       "1214655  Our stay at the beach house was amazing. We ha...  36.97273496   \n",
       "1214656  Myra and David were very welcoming, friendly a...  36.97157753   \n",
       "1214657  Wow what an amazing place! Kristin's seascape ...   36.9478674   \n",
       "\n",
       "          longitude  \n",
       "0        -73.960052  \n",
       "1        -73.960052  \n",
       "2        -73.960052  \n",
       "3        -73.960052  \n",
       "4        -73.960052  \n",
       "...             ...  \n",
       "1214653  -74.001918  \n",
       "1214654 -121.914538  \n",
       "1214655 -121.914538  \n",
       "1214656 -121.901532  \n",
       "1214657 -121.874697  \n",
       "\n",
       "[1214658 rows x 8 columns]"
      ]
     },
     "execution_count": 20,
     "metadata": {},
     "output_type": "execute_result"
    }
   ],
   "source": [
    "reviews_complete"
   ]
  },
  {
   "cell_type": "code",
   "execution_count": 21,
   "id": "0ef48f9f",
   "metadata": {},
   "outputs": [],
   "source": [
    "modified_data = []\n",
    "for listing_id, group in reviews_complete.groupby(\"listing_id\"):\n",
    "    reviews = []\n",
    "    for index, row in group.iterrows():\n",
    "        review = {\n",
    "            \"id\": row[\"id\"],\n",
    "            \"date\": row[\"date\"],\n",
    "            \"reviewer_id\": row[\"reviewer_id\"],\n",
    "            \"reviewer_name\": row[\"reviewer_name\"],\n",
    "            \"comments\": row[\"comments\"]\n",
    "        }\n",
    "        reviews.append(review)\n",
    "\n",
    "    location = {\n",
    "        \"latitude\": group[\"latitude\"].iloc[0],\n",
    "        \"longitude\": group[\"longitude\"].iloc[0]\n",
    "    }\n",
    "\n",
    "    listing_data = {\n",
    "        \"listing_id\": listing_id,\n",
    "        \"location\": location,\n",
    "        \"reviews\": reviews\n",
    "    }\n",
    "\n",
    "    modified_data.append(listing_data)"
   ]
  },
  {
   "cell_type": "code",
   "execution_count": 22,
   "id": "d57021e0",
   "metadata": {},
   "outputs": [
    {
     "name": "stdout",
     "output_type": "stream",
     "text": [
      "Index: 1194569\n",
      "Row data:\n",
      "148920466\n"
     ]
    },
    {
     "data": {
      "text/plain": [
       "48852"
      ]
     },
     "execution_count": 22,
     "metadata": {},
     "output_type": "execute_result"
    }
   ],
   "source": [
    "for index, row in group.iterrows():\n",
    "    print(\"Index:\", index)\n",
    "    print(\"Row data:\")\n",
    "    print(row[\"id\"])\n",
    "len(modified_data)"
   ]
  },
  {
   "cell_type": "code",
   "execution_count": 23,
   "id": "207775d8",
   "metadata": {
    "scrolled": true
   },
   "outputs": [
    {
     "name": "stdout",
     "output_type": "stream",
     "text": [
      "{'listing_id': 109, 'location': {'latitude': '33.98209481', 'longitude': -118.3849352}, 'reviews': [{'id': 74506539, 'date': '2016-05-15', 'reviewer_id': 22509885, 'reviewer_name': 'Jenn', 'comments': \"Me and two friends stayed for four and a half months. It was a great place to stay! The apartment was very comfortable and I really enjoyed having the park with running path across the street. The only downside was it wasn't within walking distance to restaurants, bars, or coffee shops. But they are a short drive away. Overall, great stay!\"}, {'id': 449036, 'date': '2011-08-15', 'reviewer_id': 927861, 'reviewer_name': 'Christi', 'comments': 'The host canceled my reservation the day before arrival.'}]}\n",
      "{'listing_id': 344, 'location': {'latitude': '34.1656163', 'longitude': -118.3345823}, 'reviews': [{'id': 79805581, 'date': '2016-06-14', 'reviewer_id': 2089550, 'reviewer_name': 'Drew & Katie', 'comments': 'We really enjoyed our stay here in Burbank! The house was clean and great for our family. The host and caretaker were very easy to get a hold of with questions and the pool was a wonderful bonus! Two dogs out back live on the property and were very friendly and sweet. Thanks for everything!'}, {'id': 123800867, 'date': '2016-12-30', 'reviewer_id': 35822259, 'reviewer_name': 'May', 'comments': 'The host canceled this reservation the day before arrival. This is an automated posting.'}]}\n"
     ]
    }
   ],
   "source": [
    "#Check to see if there is any problem in the data\n",
    "for item in modified_data[:2]:\n",
    "    print(item)"
   ]
  },
  {
   "cell_type": "code",
   "execution_count": 24,
   "id": "e6bb0110",
   "metadata": {},
   "outputs": [],
   "source": [
    "with open('airbnb_reviews.json', 'w') as f:\n",
    "    json.dump(modified_data, f)"
   ]
  },
  {
   "cell_type": "markdown",
   "id": "e4c7177c",
   "metadata": {},
   "source": [
    "### Create Connections to MongoDB"
   ]
  },
  {
   "cell_type": "code",
   "execution_count": 25,
   "id": "0bc5f1fa",
   "metadata": {},
   "outputs": [],
   "source": [
    "#Set up the MongoDB Client to get read for importation\n",
    "import pymongo\n",
    "from pymongo import MongoClient\n",
    "client = MongoClient('localhost',27017) ## or MongoClient(\"localhost:27017\")\n",
    "db = client.apan5400\n",
    "collection = db.airbnb_reviews"
   ]
  },
  {
   "cell_type": "code",
   "execution_count": 26,
   "id": "3eb586f5",
   "metadata": {},
   "outputs": [
    {
     "data": {
      "text/plain": [
       "<pymongo.results.InsertManyResult at 0x7fe6fb05f670>"
      ]
     },
     "execution_count": 26,
     "metadata": {},
     "output_type": "execute_result"
    }
   ],
   "source": [
    "#Import the dataset into MongoDB Collection\n",
    "collection.insert_many(modified_data)"
   ]
  },
  {
   "cell_type": "code",
   "execution_count": 27,
   "id": "d3e4941f",
   "metadata": {},
   "outputs": [
    {
     "name": "stderr",
     "output_type": "stream",
     "text": [
      "IOPub data rate exceeded.\n",
      "The notebook server will temporarily stop sending output\n",
      "to the client in order to avoid crashing it.\n",
      "To change this limit, set the config variable\n",
      "`--NotebookApp.iopub_data_rate_limit`.\n",
      "\n",
      "Current values:\n",
      "NotebookApp.iopub_data_rate_limit=1000000.0 (bytes/sec)\n",
      "NotebookApp.rate_limit_window=3.0 (secs)\n",
      "\n"
     ]
    }
   ],
   "source": [
    "#Check to see if the insertion is correct\n",
    "# retrieve all documents from the collection\n",
    "documents = collection.find()\n",
    "\n",
    "# print each document\n",
    "for document in documents:\n",
    "    print(document)"
   ]
  },
  {
   "cell_type": "code",
   "execution_count": 28,
   "id": "5d87e176",
   "metadata": {
    "scrolled": true
   },
   "outputs": [
    {
     "data": {
      "text/plain": [
       "97704"
      ]
     },
     "execution_count": 28,
     "metadata": {},
     "output_type": "execute_result"
    }
   ],
   "source": [
    "total_docs = collection.count_documents({})\n",
    "total_docs"
   ]
  },
  {
   "cell_type": "code",
   "execution_count": 29,
   "id": "ae2d92c4",
   "metadata": {},
   "outputs": [],
   "source": [
    "client.close()"
   ]
  }
 ],
 "metadata": {
  "kernelspec": {
   "display_name": "Python 3 (ipykernel)",
   "language": "python",
   "name": "python3"
  },
  "language_info": {
   "codemirror_mode": {
    "name": "ipython",
    "version": 3
   },
   "file_extension": ".py",
   "mimetype": "text/x-python",
   "name": "python",
   "nbconvert_exporter": "python",
   "pygments_lexer": "ipython3",
   "version": "3.9.13"
  }
 },
 "nbformat": 4,
 "nbformat_minor": 5
}
