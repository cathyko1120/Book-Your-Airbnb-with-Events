{
 "cells": [
  {
   "cell_type": "code",
   "execution_count": 4,
   "id": "bffd47f7",
   "metadata": {},
   "outputs": [],
   "source": [
    "def sql_sort(filtered_id, sort_name):\n",
    "    # Connect to the database\n",
    "    conn = psycopg2.connect(\n",
    "    host=\"localhost\",\n",
    "    port='5432',\n",
    "    dbname=\"5400_airbnb\",\n",
    "    user=\"postgres\",\n",
    "    password=\"1234\")\n",
    "    \n",
    "    # create a cursor\n",
    "    cur = conn.cursor()\n",
    "    \n",
    "    # Define the SQL query\n",
    "    query_listing_info = \"\"\"\n",
    "        SELECT\n",
    "            id,\n",
    "            name,\n",
    "            property_type,\n",
    "            room_type,\n",
    "            accommodates,\n",
    "            bedrooms,\n",
    "            bathrooms,\n",
    "            price\n",
    "        FROM \n",
    "            listings\n",
    "        WHERE \n",
    "            id IN %(id)s\n",
    "    \"\"\"\n",
    "\n",
    "    if sort_name == \"Price Descending\":\n",
    "        order_query = \"ORDER BY price DESC\"\n",
    "    elif sort_name == \"Price Ascending\":\n",
    "        order_query = \"ORDER BY price ASC\"\n",
    "        \n",
    "\n",
    "    query_with_sorting = \"%s %s\" %(query_listing_info, order_query)\n",
    "    \n",
    "    # Execute the SQL query with the filtered_id parameter\n",
    "    cur.execute(query_with_sorting, {'id': tuple(filtered_id)})\n",
    "    \n",
    "    # Fetch the results and format them as a list of dictionaries\n",
    "    listing_info = []\n",
    "    for row in cur:\n",
    "        result = {\n",
    "            'listing_id': row[0],\n",
    "            'name': row[1],\n",
    "            'property_type': row[2],\n",
    "            'room_type': row[3],\n",
    "            'accommodates': row[4],\n",
    "            'bedrooms': row[5],\n",
    "            'bathrooms': row[6],\n",
    "            'price': row[7]\n",
    "        }\n",
    "        listing_info.append(result)\n",
    "    \n",
    "    # Close the cursor and database connection\n",
    "    cur.close()\n",
    "    conn.close()\n",
    "    \n",
    "    # Return the listing information as a list of dictionaries\n",
    "    return listing_info"
   ]
  },
  {
   "cell_type": "code",
   "execution_count": 5,
   "id": "e7accd51",
   "metadata": {},
   "outputs": [],
   "source": [
    "import psycopg, os"
   ]
  },
  {
   "cell_type": "code",
   "execution_count": null,
   "id": "c7833827",
   "metadata": {},
   "outputs": [],
   "source": []
  }
 ],
 "metadata": {
  "kernelspec": {
   "display_name": "Python 3 (ipykernel)",
   "language": "python",
   "name": "python3"
  },
  "language_info": {
   "codemirror_mode": {
    "name": "ipython",
    "version": 3
   },
   "file_extension": ".py",
   "mimetype": "text/x-python",
   "name": "python",
   "nbconvert_exporter": "python",
   "pygments_lexer": "ipython3",
   "version": "3.9.13"
  }
 },
 "nbformat": 4,
 "nbformat_minor": 5
}
