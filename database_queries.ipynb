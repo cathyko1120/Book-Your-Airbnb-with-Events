{
 "cells": [
  {
   "cell_type": "code",
   "execution_count": 3,
   "id": "ef56bf7f",
   "metadata": {},
   "outputs": [
    {
     "name": "stdout",
     "output_type": "stream",
     "text": [
      "Collecting geopy\n",
      "  Downloading geopy-2.3.0-py3-none-any.whl (119 kB)\n",
      "\u001b[2K     \u001b[90m━━━━━━━━━━━━━━━━━━━━━━━━━━━━━━━━━━━━━━━\u001b[0m \u001b[32m119.8/119.8 kB\u001b[0m \u001b[31m3.4 MB/s\u001b[0m eta \u001b[36m0:00:00\u001b[0m\n",
      "\u001b[?25hCollecting geographiclib<3,>=1.52\n",
      "  Downloading geographiclib-2.0-py3-none-any.whl (40 kB)\n",
      "\u001b[2K     \u001b[90m━━━━━━━━━━━━━━━━━━━━━━━━━━━━━━━━━━━━━━━━\u001b[0m \u001b[32m40.3/40.3 kB\u001b[0m \u001b[31m1.3 MB/s\u001b[0m eta \u001b[36m0:00:00\u001b[0m\n",
      "\u001b[?25hInstalling collected packages: geographiclib, geopy\n",
      "Successfully installed geographiclib-2.0 geopy-2.3.0\n",
      "Note: you may need to restart the kernel to use updated packages.\n"
     ]
    }
   ],
   "source": [
    "pip install geopy"
   ]
  },
  {
   "cell_type": "code",
   "execution_count": 4,
   "id": "a9b8a707",
   "metadata": {},
   "outputs": [],
   "source": [
    "import pandas as pd\n",
    "import numpy as np\n",
    "import json\n",
    "import csv\n",
    "import datetime\n",
    "from geopy.distance import distance"
   ]
  },
  {
   "cell_type": "markdown",
   "id": "c3a93b2d",
   "metadata": {},
   "source": [
    "# Three Functions Created"
   ]
  },
  {
   "cell_type": "code",
   "execution_count": 5,
   "id": "f757788e",
   "metadata": {},
   "outputs": [],
   "source": [
    "def list_airbnb(location_geocode, max_distance):\n",
    "    client = MongoClient('localhost',27017) ## or MongoClient(\"localhost:27017\")\n",
    "    db = client.apan5400\n",
    "    collection = db.airbnb_reviews\n",
    "    \n",
    "    filtered_listings = []\n",
    "    for listing in collection.find():\n",
    "        listing_latitude = listing['location']['latitude']\n",
    "        listing_longitude = listing['location']['longitude']\n",
    "        listing_geocode = (listing_latitude, listing_longitude)\n",
    "        listing_distance = distance(location_geocode, listing_geocode).miles\n",
    "        if listing_distance <= max_distance:\n",
    "            filtered_listings.append(listing)\n",
    "    filtered_id = []\n",
    "    for x in range(len(filtered_listings)):\n",
    "        filtered_id.append(filtered_listings[x]['listing_id'])\n",
    "        \n",
    "    client.close()\n",
    "    \n",
    "    return filtered_id"
   ]
  },
  {
   "cell_type": "code",
   "execution_count": 6,
   "id": "eddd1d53",
   "metadata": {},
   "outputs": [],
   "source": [
    "def sql_airbnb(filtered_id):\n",
    "    # Connect to the database\n",
    "    conn = psycopg2.connect(\n",
    "    host=\"localhost\",\n",
    "    port='5432',\n",
    "    dbname=\"5400_airbnb\",\n",
    "    user=\"postgres\",\n",
    "    password=\"1234\")\n",
    "    \n",
    "    # create a cursor\n",
    "    cur = conn.cursor()\n",
    "    \n",
    "    # Define the SQL query\n",
    "    query_listing_info = \"\"\"\n",
    "        SELECT\n",
    "            id,\n",
    "            name,\n",
    "            property_type,\n",
    "            room_type,\n",
    "            accommodates,\n",
    "            bedrooms,\n",
    "            bathrooms,\n",
    "            price\n",
    "        FROM \n",
    "            listings\n",
    "        WHERE \n",
    "            id IN %(id)s\n",
    "    \"\"\"\n",
    "    \n",
    "    # Execute the SQL query with the filtered_id parameter\n",
    "    cur.execute(query_listing_info, {'id': tuple(filtered_id)})\n",
    "    \n",
    "    # Fetch the results and format them as a list of dictionaries\n",
    "    listing_info = []\n",
    "    for row in cur:\n",
    "        result = {\n",
    "            'listing_id': row[0],\n",
    "            'name': row[1],\n",
    "            'property_type': row[2],\n",
    "            'room_type': row[3],\n",
    "            'accommodates': row[4],\n",
    "            'bedrooms': row[5],\n",
    "            'bathrooms': row[6],\n",
    "            'price': row[7]\n",
    "        }\n",
    "        listing_info.append(result)\n",
    "    \n",
    "    # Close the cursor and database connection\n",
    "    cur.close()\n",
    "    conn.close()\n",
    "    \n",
    "    # Return the listing information as a list of dictionaries\n",
    "    return listing_info"
   ]
  },
  {
   "cell_type": "code",
   "execution_count": 7,
   "id": "28076683",
   "metadata": {},
   "outputs": [],
   "source": [
    "def mongo_airbnb(listing_id):\n",
    "    client = MongoClient('localhost',27017) ## or MongoClient(\"localhost:27017\")\n",
    "    db = client.apan5400\n",
    "    collection = db.airbnb_reviews\n",
    "    \n",
    "    \n",
    "    reviews = []\n",
    "    query = {\"listing_id\": listing_id}\n",
    "    result = collection.find(query)\n",
    "    for review in result:\n",
    "        reviews.append(review)\n",
    "            \n",
    "    client.close()\n",
    "    \n",
    "    return reviews"
   ]
  },
  {
   "cell_type": "markdown",
   "id": "80e27b45",
   "metadata": {},
   "source": [
    "### Create Connections to MongoDB"
   ]
  },
  {
   "cell_type": "code",
   "execution_count": 8,
   "id": "8aa8588d",
   "metadata": {},
   "outputs": [],
   "source": [
    "#Set up the MongoDB Client to get read for importation\n",
    "import pymongo\n",
    "from pymongo import MongoClient\n",
    "client = MongoClient('localhost',27017) ## or MongoClient(\"localhost:27017\")\n",
    "db = client.apan5400\n",
    "collection = db.airbnb_reviews"
   ]
  },
  {
   "cell_type": "code",
   "execution_count": 9,
   "id": "05615d1d",
   "metadata": {},
   "outputs": [
    {
     "data": {
      "text/plain": [
       "97704"
      ]
     },
     "execution_count": 9,
     "metadata": {},
     "output_type": "execute_result"
    }
   ],
   "source": [
    "total_docs = collection.count_documents({})\n",
    "total_docs"
   ]
  },
  {
   "cell_type": "code",
   "execution_count": 10,
   "id": "6b8bafa5",
   "metadata": {},
   "outputs": [],
   "source": [
    "client.close()"
   ]
  },
  {
   "cell_type": "markdown",
   "id": "415d2896",
   "metadata": {},
   "source": [
    "### Create Connections to PostgreSQL"
   ]
  },
  {
   "cell_type": "code",
   "execution_count": 13,
   "id": "707c7eab",
   "metadata": {},
   "outputs": [
    {
     "name": "stdout",
     "output_type": "stream",
     "text": [
      "Connecting to the PostgreSQL database...\n"
     ]
    }
   ],
   "source": [
    "import psycopg, os\n",
    "\n",
    "print('Connecting to the PostgreSQL database...')\n",
    "conn = psycopg.connect(\n",
    "    host=\"localhost\",\n",
    "    port='5432',\n",
    "    dbname=\"5400_airbnb\",\n",
    "    user=\"postgres\",\n",
    "    password=\"123\")"
   ]
  },
  {
   "cell_type": "code",
   "execution_count": 14,
   "id": "0fb9c597",
   "metadata": {},
   "outputs": [],
   "source": [
    "# create a cursor\n",
    "cur = conn.cursor()"
   ]
  },
  {
   "cell_type": "code",
   "execution_count": 15,
   "id": "a14d8a87",
   "metadata": {},
   "outputs": [
    {
     "name": "stdout",
     "output_type": "stream",
     "text": [
      "PostgreSQL database version:\n",
      "('PostgreSQL 15.1 (Debian 15.1-1.pgdg110+1) on aarch64-unknown-linux-gnu, compiled by gcc (Debian 10.2.1-6) 10.2.1 20210110, 64-bit',)\n"
     ]
    }
   ],
   "source": [
    "# execute a statement\n",
    "print('PostgreSQL database version:')\n",
    "cur.execute('SELECT version()')\n",
    "\n",
    "# display the PostgreSQL database server version\n",
    "db_version = cur.fetchone()\n",
    "print(db_version)"
   ]
  },
  {
   "cell_type": "code",
   "execution_count": 16,
   "id": "6c0dcef1",
   "metadata": {},
   "outputs": [],
   "source": [
    "# close the communication with the PostgreSQL\n",
    "cur.close()"
   ]
  },
  {
   "cell_type": "markdown",
   "id": "4263e7c5",
   "metadata": {},
   "source": [
    "### API to obtain geocode for addresses"
   ]
  },
  {
   "cell_type": "code",
   "execution_count": 17,
   "id": "880591a6",
   "metadata": {},
   "outputs": [],
   "source": [
    "import requests"
   ]
  },
  {
   "cell_type": "code",
   "execution_count": 20,
   "id": "a26fd11e",
   "metadata": {},
   "outputs": [],
   "source": [
    "def geocode_address(address):\n",
    "    # set the API endpoint and parameters\n",
    "    endpoint = \"https://nominatim.openstreetmap.org/search\"\n",
    "    params = {\"q\": address, \"format\": \"json\"}\n",
    "\n",
    "    # send the request to the API\n",
    "    response = requests.get(endpoint, params=params)\n",
    "\n",
    "    # parse the JSON response and extract the latitude and longitude\n",
    "    if response.status_code == 200:\n",
    "        data = response.json()\n",
    "        if data:\n",
    "            lat = data[0][\"lat\"]\n",
    "            lon = data[0][\"lon\"]\n",
    "            return lat, lon\n",
    "        else:\n",
    "            print(\"Error: No results found.\")\n",
    "    else:\n",
    "        print(\"Error: \", response.status_code)"
   ]
  },
  {
   "cell_type": "code",
   "execution_count": 21,
   "id": "345c56b1",
   "metadata": {},
   "outputs": [
    {
     "name": "stdout",
     "output_type": "stream",
     "text": [
      "Enter an address: columbia university\n",
      "Latitude: 40.80775585, Longitude: -73.96164946987652\n"
     ]
    }
   ],
   "source": [
    "# prompt the user to enter an address\n",
    "address = input(\"Enter an address: \")\n",
    "\n",
    "# geocode the address and print the result\n",
    "result = geocode_address(address)\n",
    "if result:\n",
    "    lat, lon = result\n",
    "    print(f\"Latitude: {lat}, Longitude: {lon}\")"
   ]
  },
  {
   "cell_type": "code",
   "execution_count": 22,
   "id": "17bb6d96",
   "metadata": {},
   "outputs": [],
   "source": [
    "location_geocode = (result[0], result[1])"
   ]
  },
  {
   "cell_type": "code",
   "execution_count": null,
   "id": "062c237d",
   "metadata": {},
   "outputs": [],
   "source": []
  },
  {
   "cell_type": "code",
   "execution_count": null,
   "id": "b64c35a2",
   "metadata": {},
   "outputs": [],
   "source": []
  }
 ],
 "metadata": {
  "kernelspec": {
   "display_name": "Python 3 (ipykernel)",
   "language": "python",
   "name": "python3"
  },
  "language_info": {
   "codemirror_mode": {
    "name": "ipython",
    "version": 3
   },
   "file_extension": ".py",
   "mimetype": "text/x-python",
   "name": "python",
   "nbconvert_exporter": "python",
   "pygments_lexer": "ipython3",
   "version": "3.9.13"
  }
 },
 "nbformat": 4,
 "nbformat_minor": 5
}
